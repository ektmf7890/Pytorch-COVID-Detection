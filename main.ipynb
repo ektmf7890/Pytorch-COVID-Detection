{
 "cells": [
  {
   "cell_type": "code",
   "execution_count": null,
   "metadata": {},
   "outputs": [],
   "source": [
    "import numpy as np\n"
   ]
  },
  {
   "source": [
    "# Preparing train set & test set"
   ],
   "cell_type": "markdown",
   "metadata": {}
  },
  {
   "cell_type": "code",
   "execution_count": null,
   "metadata": {},
   "outputs": [],
   "source": [
    "import os\n",
    "import random\n",
    "import torch\n",
    "import shutil\n",
    "from PIL import Image\n",
    "\n",
    "# seed for RNG(random number generator)->controlling source of randomness\n",
    "torch.manual_seed(0)"
   ]
  },
  {
   "cell_type": "code",
   "execution_count": null,
   "metadata": {},
   "outputs": [],
   "source": [
    "# create train data and test data directories\n",
    "\n",
    "class_names = ['covid', 'normal', 'viral']\n",
    "root_dir = 'COVID-19RadiographyDatabase'\n",
    "source_dirs = ['COVID', 'NORMAL', 'Viral Pneumonia']\n",
    "\n",
    "if not os.path.exists(os.path.join(root_dir, 'test')):\n",
    "    os.mkdir(os.path.join(root_dir, 'test'))\n",
    "\n",
    "if not os.path.exists(os.path.join(root_dir, 'train')):\n",
    "    os.mkdir(os.path.join(root_dir, 'train'))\n",
    "\n",
    "for class_name in class_names:\n",
    "    if not os.path.exists(os.path.join(root_dir, 'test', class_name)):\n",
    "        os.mkdir(os.path.join(root_dir, 'test', class_name))"
   ]
  },
  {
   "cell_type": "code",
   "execution_count": null,
   "metadata": {},
   "outputs": [],
   "source": [
    "# rename the raw directory names to class names\n",
    "\n",
    "for i, d in enumerate(source_dirs):\n",
    "    if os.path.exists(os.path.join(root_dir, source_dirs[i])):\n",
    "        os.rename(os.path.join(root_dir, source_dirs[i]), os.path.join(root_dir, class_names[i]))\n",
    "\n",
    "# extract 30 images from each class for the test data set\n",
    "\n",
    "for class_name in class_names:\n",
    "    images = [x for x in os.listdir(os.path.join(root_dir, class_name)) if x.lower().endswith('png')]\n",
    "    images = random.sample(images, 30)\n",
    "    for image in images:\n",
    "        shutil.move(os.path.join(root_dir, class_name, image), os.path.join(root_dir, 'test', class_name))\n",
    "\n",
    "    # move remaining class folder into 'train'\n",
    "    shutil.move(os.path.join(root_dir, class_name), os.path.join(root_dir, 'train', class_name))"
   ]
  },
  {
   "source": [
    "# Create Custom Dataset"
   ],
   "cell_type": "markdown",
   "metadata": {}
  },
  {
   "cell_type": "code",
   "execution_count": null,
   "metadata": {},
   "outputs": [],
   "source": [
    "from torch.utils.data import Dataset"
   ]
  },
  {
   "cell_type": "code",
   "execution_count": null,
   "metadata": {},
   "outputs": [],
   "source": [
    "class ChestXRayDataset(Dataset):\n",
    "    def __init__(self, image_dirs, transform):\n",
    "        self.image_dirs = image_dirs\n",
    "        self.transform = transform\n",
    "        self.images = {}\n",
    "        self.class_names = ['covid', 'normal', 'viral']\n",
    "        \n",
    "        def get_image_list(class_name):\n",
    "            images = [x for x in os.listdir(image_dirs[class_name]) if x.lower().endswith('png')]\n",
    "            print(f'Found {len(images)}images of {class_name} examples')\n",
    "            return images\n",
    "\n",
    "        for class_name in self.class_names:\n",
    "            self.images[class_name] = get_image_list(class_name)\n",
    "\n",
    "    def __len__(self):\n",
    "        return sum([len(self.images[class_name]) for class_name in self.class_names])\n",
    "        \n",
    "    def __getitem__(self, index):\n",
    "        class_name = random.choice(self.class_names)\n",
    "        index = index % len(self.images[class_name])\n",
    "        image_name = self.images[class_name][index]\n",
    "        image_path = os.path.join(self.image_dirs[class_name], image_name)\n",
    "        image = Image.open(image_path).convert('RGB')\n",
    "        return self.transform(image), self.class_names.index(class_name)"
   ]
  },
  {
   "source": [
    "# Image Transformation"
   ],
   "cell_type": "markdown",
   "metadata": {}
  },
  {
   "cell_type": "code",
   "execution_count": null,
   "metadata": {},
   "outputs": [],
   "source": [
    "from torchvision import transforms"
   ]
  },
  {
   "cell_type": "code",
   "execution_count": null,
   "metadata": {},
   "outputs": [],
   "source": [
    "# We use the same normalization that was used on the ImageNet data when training the ResNet18 model\n",
    "image_transforms = {\n",
    "    'train': transforms.Compose([\n",
    "        transforms.Resize(size=(224, 224)),\n",
    "        transforms.RandomHorizontalFlip(),\n",
    "        transforms.ToTensor(),\n",
    "        transforms.Normalize(mean=[0.485, 0.456, 0.406],\n",
    "                             std=[0.229, 0.224, 0.225])\n",
    "    ]),\n",
    "    'test': transforms.Compose([\n",
    "        transforms.Resize(size=256),\n",
    "        transforms.ToTensor(),\n",
    "        transforms.Normalize(mean=[0.485, 0.456, 0.406],\n",
    "                             std=[0.229, 0.224, 0.225])\n",
    "    ])\n",
    "}"
   ]
  },
  {
   "source": [
    "# Data Loader"
   ],
   "cell_type": "markdown",
   "metadata": {}
  },
  {
   "cell_type": "code",
   "execution_count": null,
   "metadata": {},
   "outputs": [],
   "source": [
    "from torch.utils.data import DataLoader"
   ]
  },
  {
   "cell_type": "code",
   "execution_count": null,
   "metadata": {},
   "outputs": [],
   "source": [
    "# imade_dirs for eacg data set(train, test)\n",
    "train_image_dirs = {}\n",
    "test_image_dirs = {}\n",
    "\n",
    "for c in class_names:\n",
    "    if os.path.exists(os.path.join(root_dir, 'train', c)):\n",
    "        train_image_dirs[c] = os.path.join(root_dir, 'train', c)\n",
    "    if os.path.exists(os.path.join(root_dir, 'test', c)):\n",
    "        test_image_dirs[c] = os.path.join(root_dir, 'test', c)"
   ]
  },
  {
   "cell_type": "code",
   "execution_count": null,
   "metadata": {},
   "outputs": [],
   "source": [
    "train_dataset = ChestXRayDataset(train_image_dirs, image_transforms['train'])"
   ]
  },
  {
   "cell_type": "code",
   "execution_count": null,
   "metadata": {},
   "outputs": [],
   "source": [
    "test_dataset = ChestXRayDataset(test_image_dirs, image_transforms['test'])"
   ]
  },
  {
   "cell_type": "code",
   "execution_count": null,
   "metadata": {},
   "outputs": [],
   "source": [
    "# Batch Size\n",
    "bs = 6\n",
    "\n",
    "# Create data loaders for each data sets\n",
    "train_data_loader = DataLoader(data['train'], batch_size=bs, shuffle=True)\n",
    "test_data_loader = DataLoader(data['test'], batch_size=bs, shuffle=True)\n",
    "\n",
    "print(f'Num of training batches: {len(train_data_loader)}')\n",
    "print(f'Num of test batches: {len(test_data_loader)}')"
   ]
  },
  {
   "source": [
    "# Data Visualization"
   ],
   "cell_type": "markdown",
   "metadata": {}
  },
  {
   "cell_type": "code",
   "execution_count": null,
   "metadata": {},
   "outputs": [],
   "source": [
    "% matplotlib inline\n",
    "from matplotlib import pyplot as plt"
   ]
  },
  {
   "cell_type": "code",
   "execution_count": null,
   "metadata": {},
   "outputs": [],
   "source": [
    "class_names = train_dataset.class_names\n",
    "\n",
    "\n",
    "def show_images(images, labels, preds):\n",
    "    plt.figure(figsize=(8, 4))\n",
    "    for i, image in enumerate(images):\n",
    "        plt.subplot(1, 6, i + 1, xticks=[], yticks=[])\n",
    "        image = image.numpy().transpose((1, 2, 0))\n",
    "        mean = np.array([0.485, 0.456, 0.406])\n",
    "        std = np.array([0.229, 0.224, 0.225])\n",
    "        image = image * std + mean\n",
    "        image = np.clip(image, 0., 1.)\n",
    "        plt.imshow(image)\n",
    "        col = 'green'\n",
    "        if preds[i] != labels[i]:\n",
    "            col = 'red'\n",
    "            \n",
    "        plt.xlabel(f'{class_names[int(labels[i].numpy())]}')\n",
    "        plt.ylabel(f'{class_names[int(preds[i].numpy())]}', color=col)\n",
    "    plt.tight_layout()\n",
    "    plt.show()"
   ]
  },
  {
   "cell_type": "code",
   "execution_count": null,
   "metadata": {},
   "outputs": [],
   "source": [
    "images, labels = next(iter(dl_train))\n",
    "show_images(images, labels, labels)"
   ]
  },
  {
   "cell_type": "code",
   "execution_count": null,
   "metadata": {},
   "outputs": [],
   "source": [
    "images, labels = next(iter(dl_test))\n",
    "show_images(images, labels, labels)"
   ]
  },
  {
   "source": [
    "# Creating the Model"
   ],
   "cell_type": "markdown",
   "metadata": {}
  },
  {
   "source": [
    "# Training the Model"
   ],
   "cell_type": "markdown",
   "metadata": {}
  }
 ],
 "metadata": {
  "kernelspec": {
   "display_name": "Python 3.8.5 64-bit ('py3cv4')",
   "language": "python",
   "name": "python38564bitpy3cv41de94aec9c894042922d95ac85dcff2d"
  },
  "language_info": {
   "codemirror_mode": {
    "name": "ipython",
    "version": 3
   },
   "file_extension": ".py",
   "mimetype": "text/x-python",
   "name": "python",
   "nbconvert_exporter": "python",
   "pygments_lexer": "ipython3",
   "version": "3.8.5-final"
  }
 },
 "nbformat": 4,
 "nbformat_minor": 4
}